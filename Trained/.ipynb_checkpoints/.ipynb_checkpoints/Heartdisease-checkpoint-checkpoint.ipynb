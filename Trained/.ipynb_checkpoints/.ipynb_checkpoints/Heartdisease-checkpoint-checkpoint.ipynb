{
 "cells": [
  {
   "cell_type": "code",
   "execution_count": 34,
   "id": "3829f1ff-563e-4ae3-be5b-7467fcc4aa7c",
   "metadata": {},
   "outputs": [],
   "source": [
    "import pandas as pd\n",
    "import numpy as np\n",
    "\n",
    "from sklearn.model_selection import train_test_split\n",
    "from sklearn.preprocessing import StandardScaler\n",
    "from sklearn.neighbors import KNeighborsClassifier\n",
    "from sklearn.metrics import f1_score\n",
    "from sklearn.metrics import accuracy_score, classification_report, confusion_matrix\n"
   ]
  },
  {
   "cell_type": "markdown",
   "id": "7e35ad87-9194-4903-bc97-b41dddcc8085",
   "metadata": {},
   "source": [
    "dataset = pd.read_csv('heart_disease_dataset.csv')\n",
    "dataset.head()"
   ]
  },
  {
   "cell_type": "markdown",
   "id": "bdf53f99-5273-4ba4-9e8a-22127f966d7c",
   "metadata": {},
   "source": [
    "dataset.info()"
   ]
  },
  {
   "cell_type": "markdown",
   "id": "6437569d-fe53-49b8-960c-c6f7ad4556f8",
   "metadata": {},
   "source": [
    "print(len(dataset))"
   ]
  },
  {
   "cell_type": "markdown",
   "id": "bc519e7c-5765-446a-b65d-cc8b4dba40b5",
   "metadata": {},
   "source": [
    "#split dataset\n",
    "x = dataset.iloc[:, 0:15]\n",
    "y = dataset.iloc[:, 15]\n",
    "X_train, X_test, y_train, y_test = train_test_split(x, y, test_size=0.2, random_state=0)\n"
   ]
  },
  {
   "cell_type": "markdown",
   "id": "8c01ef41-bf44-4d95-997d-108807e4a0da",
   "metadata": {},
   "source": [
    "#feature scaling\n",
    "sc_X = StandardScaler()\n",
    "X_train = sc_X.fit_transform(X_train)\n",
    "X_test = sc_X.transform(X_test)"
   ]
  },
  {
   "cell_type": "markdown",
   "id": "611521aa-8a3a-4f59-8749-6969ac80b526",
   "metadata": {},
   "source": [
    "#define the KNN model\n",
    "classifier = KNeighborsClassifier(n_neighbors = 15, p=2, metric = \"euclidean\")\n",
    "classifier.fit(X_train, y_train)"
   ]
  },
  {
   "cell_type": "markdown",
   "id": "332b18bc-e05a-40ce-b876-ec1f7ee479e9",
   "metadata": {},
   "source": [
    "y_pred = classifier.predict(X_test)"
   ]
  },
  {
   "cell_type": "markdown",
   "id": "9802ae5a-4053-40ae-ad5c-4810ae5bca74",
   "metadata": {},
   "source": [
    "#Evaluatethe model\n",
    "\n",
    "# Accuracy\n",
    "accuracy = accuracy_score(y_test, y_pred)\n",
    "print(\"Accuracy:\", accuracy)\n",
    "\n",
    "# Confusion Matrix\n",
    "conf_matrix = confusion_matrix(y_test, y_pred)\n",
    "print(\"Confusion Matrix:\\n\", conf_matrix)\n",
    "\n",
    "# Classification Report\n",
    "class_report = classification_report(y_test, y_pred)\n",
    "print(\"Classification Report:\\n\", class_report)\n"
   ]
  },
  {
   "cell_type": "markdown",
   "id": "090f9cb8-3bdb-4a83-9584-1916f390143d",
   "metadata": {
    "jp-MarkdownHeadingCollapsed": true
   },
   "source": [
    "print(f1_score(y_test, y_pred))"
   ]
  },
  {
   "cell_type": "markdown",
   "id": "7a7efe70-0f78-43f9-ab46-0811e6a21d2f",
   "metadata": {},
   "source": [
    "print(accuracy_score(y_test, y_pred))"
   ]
  },
  {
   "cell_type": "code",
   "execution_count": null,
   "id": "305ceff1-edf3-4685-9015-0591eb664f31",
   "metadata": {},
   "outputs": [],
   "source": []
  }
 ],
 "metadata": {
  "kernelspec": {
   "display_name": "Python 3 (ipykernel)",
   "language": "python",
   "name": "python3"
  },
  "language_info": {
   "codemirror_mode": {
    "name": "ipython",
    "version": 3
   },
   "file_extension": ".py",
   "mimetype": "text/x-python",
   "name": "python",
   "nbconvert_exporter": "python",
   "pygments_lexer": "ipython3",
   "version": "3.13.1"
  }
 },
 "nbformat": 4,
 "nbformat_minor": 5
}
