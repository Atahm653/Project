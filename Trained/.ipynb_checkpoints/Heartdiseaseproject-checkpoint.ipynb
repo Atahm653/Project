{
 "cells": [
  {
   "cell_type": "code",
   "execution_count": null,
   "id": "c185397d-cb3a-45b2-8cc4-f06d75af675d",
   "metadata": {},
   "outputs": [],
   "source": []
  }
 ],
 "metadata": {
  "kernelspec": {
   "display_name": "Python 3 (ipykernel)",
   "language": "python",
   "name": "python3"
  },
  "language_info": {
   "codemirror_mode": {
    "name": "ipython",
    "version": 3
   },
   "file_extension": ".py",
   "mimetype": "text/x-python",
   "name": "python",
   "nbconvert_exporter": "python",
   "pygments_lexer": "ipython3",
   "version": "3.13.1"
  }
 },
 "nbformat": 4,
 "nbformat_minor": 5
}
